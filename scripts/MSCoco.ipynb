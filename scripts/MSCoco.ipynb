{
 "cells": [
  {
   "cell_type": "code",
   "execution_count": 3,
   "id": "efe69c06",
   "metadata": {},
   "outputs": [],
   "source": [
    "import json\n",
    "import numpy as np\n",
    "import jsonlines\n",
    "\n",
    "from collections import defaultdict\n",
    "\n",
    "train_captions = defaultdict(list)\n",
    "test_captions = defaultdict(list)\n",
    "\n",
    "with open('/mnt/ext/phd/data/mscoco/annotations/captions_train2017.json') as f:\n",
    "    train_data = json.load(f)\n",
    "with open('/mnt/ext/phd/data/mscoco/annotations/captions_val2017.json') as f:\n",
    "    test_data = json.load(f)\n",
    "    \n",
    "for row in train_data['annotations']:\n",
    "    train_captions[row['image_id']].append(row['caption'].replace(\"\\n\",\"\").strip())\n",
    "for row in test_data['annotations']:\n",
    "    test_captions[row['image_id']].append(row['caption'].replace(\"\\n\",\"\").strip())\n",
    "    \n",
    "train_captions = list(train_captions.values())\n",
    "test_captions = list(test_captions.values())\n",
    "    \n",
    "np.random.shuffle(train_captions)\n",
    "\n",
    "dev_captions = train_captions[-5000:]\n",
    "train_captions = train_captions[:-5000]\n",
    "\n",
    "with jsonlines.open('../../torchseq/data/mscoco-clusters/train.jsonl', 'w') as f:\n",
    "    f.write_all([{'qs': row} for row in train_captions])\n",
    "with jsonlines.open('../../torchseq/data/mscoco-clusters/dev.jsonl', 'w') as f:\n",
    "    f.write_all([{'qs': row} for row in dev_captions])\n",
    "with jsonlines.open('../../torchseq/data/mscoco-clusters/test.jsonl', 'w') as f:\n",
    "    f.write_all([{'qs': row} for row in test_captions])\n",
    "    \n",
    "\n",
    "with jsonlines.open('../../torchseq/data/mscoco-all/train.jsonl', 'w') as f:\n",
    "    f.write_all([{'q': q} for row in train_captions for q in row])\n",
    "with jsonlines.open('../../torchseq/data/mscoco-all/dev.jsonl', 'w') as f:\n",
    "    f.write_all([{'q': q} for row in dev_captions for q in row])\n",
    "with jsonlines.open('../../torchseq/data/mscoco-all/test.jsonl', 'w') as f:\n",
    "    f.write_all([{'q': q} for row in test_captions for q in row])\n",
    "    \n",
    "    \n",
    "with jsonlines.open('../../torchseq/data/mscoco-eval/train.jsonl', 'w') as f:\n",
    "    f.write_all([{'sem_input': row[0], 'paras': row[1:], 'tgt': row[1], 'syn_input': row[1]} for row in train_captions])\n",
    "with jsonlines.open('../../torchseq/data/mscoco-eval/dev.jsonl', 'w') as f:\n",
    "    f.write_all([{'sem_input': row[0], 'paras': row[1:], 'tgt': row[1], 'syn_input': row[1]} for row in dev_captions])\n",
    "with jsonlines.open('../../torchseq/data/mscoco-eval/test.jsonl', 'w') as f:\n",
    "    f.write_all([{'sem_input': row[0], 'paras': row[1:], 'tgt': row[1], 'syn_input': row[1]} for row in test_captions])"
   ]
  },
  {
   "cell_type": "code",
   "execution_count": 6,
   "id": "a607901d",
   "metadata": {},
   "outputs": [
    {
     "data": {
      "text/plain": [
       "[{'sem_input': 'A black Honda motorcycle parked in front of a garage.',\n",
       "  'paras': ['A Honda motorcycle parked in a grass driveway',\n",
       "   'A black Honda motorcycle with a dark burgundy seat.',\n",
       "   'Ma motorcycle parked on the gravel in front of a garage',\n",
       "   'A motorcycle with its brake extended standing outside'],\n",
       "  'tgt': 'A Honda motorcycle parked in a grass driveway',\n",
       "  'syn_input': 'A Honda motorcycle parked in a grass driveway'},\n",
       " {'sem_input': 'An office cubicle with four different types of computers.',\n",
       "  'paras': ['The home office space seems to be very cluttered.',\n",
       "   'an office with desk computer and chair and laptop.',\n",
       "   'Office setting with a lot of computer screens.',\n",
       "   'A desk and chair in an office cubicle.'],\n",
       "  'tgt': 'The home office space seems to be very cluttered.',\n",
       "  'syn_input': 'The home office space seems to be very cluttered.'},\n",
       " {'sem_input': 'A small closed toilet in a cramped space.',\n",
       "  'paras': ['A tan toilet and sink combination in a small room.',\n",
       "   'This is an advanced toilet with a sink and control panel.',\n",
       "   'A close-up picture of a toilet with a fountain.',\n",
       "   'Off white toilet with a faucet and controls.'],\n",
       "  'tgt': 'A tan toilet and sink combination in a small room.',\n",
       "  'syn_input': 'A tan toilet and sink combination in a small room.'}]"
      ]
     },
     "execution_count": 6,
     "metadata": {},
     "output_type": "execute_result"
    }
   ],
   "source": [
    "import sacrebleu\n",
    "\n",
    "sacrebleu.corpus_bleu"
   ]
  },
  {
   "cell_type": "code",
   "execution_count": null,
   "id": "46911a0f",
   "metadata": {},
   "outputs": [],
   "source": []
  }
 ],
 "metadata": {
  "kernelspec": {
   "display_name": "Python 3",
   "language": "python",
   "name": "python3"
  },
  "language_info": {
   "codemirror_mode": {
    "name": "ipython",
    "version": 3
   },
   "file_extension": ".py",
   "mimetype": "text/x-python",
   "name": "python",
   "nbconvert_exporter": "python",
   "pygments_lexer": "ipython3",
   "version": "3.8.5"
  }
 },
 "nbformat": 4,
 "nbformat_minor": 5
}
